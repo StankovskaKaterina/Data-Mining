{
 "cells": [
  {
   "cell_type": "markdown",
   "id": "44a4cf46",
   "metadata": {},
   "source": [
    "# Implementation of KNN algorithm for predicting song danceability"
   ]
  },
  {
   "cell_type": "code",
   "execution_count": 1,
   "id": "ba1806af",
   "metadata": {},
   "outputs": [],
   "source": [
    "import numpy as np\n",
    "import matplotlib.pyplot as plt\n",
    "import pandas as pd\n",
    "from sklearn.model_selection import train_test_split\n",
    "from sklearn.preprocessing import StandardScaler\n",
    "from sklearn.neighbors import KNeighborsClassifier\n",
    "from sklearn.metrics import classification_report, confusion_matrix, accuracy_score"
   ]
  },
  {
   "cell_type": "code",
   "execution_count": 2,
   "id": "a13a4945",
   "metadata": {},
   "outputs": [],
   "source": [
    "df1= pd.read_csv('rock-spotify.csv')\n",
    "df1=df1.drop(['index','release_date','length','danceability.1','key','loudness','key','time_signature','liveness'], axis=1)"
   ]
  },
  {
   "cell_type": "code",
   "execution_count": 3,
   "id": "ab5b7eee",
   "metadata": {},
   "outputs": [],
   "source": [
    "df1.rename(columns = {'popularity':'Popularity','artist':'Artist','name':'Title','danceability':'Danceability', 'energy':'Energy','speechiness':'Speechiness', 'acousticness':'Acousticness', 'instrumentalness':'Instrumentalness','valence':'Valence', 'tempo':'Tempo'}, inplace = True)"
   ]
  },
  {
   "cell_type": "code",
   "execution_count": 4,
   "id": "24dd2ec7",
   "metadata": {},
   "outputs": [],
   "source": [
    "df=df1.drop(['Artist','Title'],axis=1)"
   ]
  },
  {
   "cell_type": "code",
   "execution_count": 5,
   "id": "88f14987",
   "metadata": {},
   "outputs": [
    {
     "data": {
      "text/html": [
       "<div>\n",
       "<style scoped>\n",
       "    .dataframe tbody tr th:only-of-type {\n",
       "        vertical-align: middle;\n",
       "    }\n",
       "\n",
       "    .dataframe tbody tr th {\n",
       "        vertical-align: top;\n",
       "    }\n",
       "\n",
       "    .dataframe thead th {\n",
       "        text-align: right;\n",
       "    }\n",
       "</style>\n",
       "<table border=\"1\" class=\"dataframe\">\n",
       "  <thead>\n",
       "    <tr style=\"text-align: right;\">\n",
       "      <th></th>\n",
       "      <th>Energy</th>\n",
       "      <th>Speechiness</th>\n",
       "      <th>Acousticness</th>\n",
       "      <th>Instrumentalness</th>\n",
       "      <th>Valence</th>\n",
       "      <th>Tempo</th>\n",
       "      <th>Popularity</th>\n",
       "      <th>Danceability</th>\n",
       "    </tr>\n",
       "  </thead>\n",
       "  <tbody>\n",
       "    <tr>\n",
       "      <th>0</th>\n",
       "      <td>0.912</td>\n",
       "      <td>0.0564</td>\n",
       "      <td>0.000025</td>\n",
       "      <td>0.000173</td>\n",
       "      <td>0.720</td>\n",
       "      <td>116.761</td>\n",
       "      <td>74</td>\n",
       "      <td>0.502</td>\n",
       "    </tr>\n",
       "    <tr>\n",
       "      <th>1</th>\n",
       "      <td>0.340</td>\n",
       "      <td>0.0339</td>\n",
       "      <td>0.580000</td>\n",
       "      <td>0.003200</td>\n",
       "      <td>0.197</td>\n",
       "      <td>82.433</td>\n",
       "      <td>78</td>\n",
       "      <td>0.338</td>\n",
       "    </tr>\n",
       "    <tr>\n",
       "      <th>2</th>\n",
       "      <td>0.402</td>\n",
       "      <td>0.0536</td>\n",
       "      <td>0.288000</td>\n",
       "      <td>0.000000</td>\n",
       "      <td>0.228</td>\n",
       "      <td>143.883</td>\n",
       "      <td>74</td>\n",
       "      <td>0.392</td>\n",
       "    </tr>\n",
       "    <tr>\n",
       "      <th>3</th>\n",
       "      <td>0.257</td>\n",
       "      <td>0.0252</td>\n",
       "      <td>0.907000</td>\n",
       "      <td>0.183000</td>\n",
       "      <td>0.169</td>\n",
       "      <td>75.752</td>\n",
       "      <td>77</td>\n",
       "      <td>0.547</td>\n",
       "    </tr>\n",
       "    <tr>\n",
       "      <th>4</th>\n",
       "      <td>0.863</td>\n",
       "      <td>0.0338</td>\n",
       "      <td>0.038300</td>\n",
       "      <td>0.031700</td>\n",
       "      <td>0.931</td>\n",
       "      <td>136.302</td>\n",
       "      <td>77</td>\n",
       "      <td>0.723</td>\n",
       "    </tr>\n",
       "  </tbody>\n",
       "</table>\n",
       "</div>"
      ],
      "text/plain": [
       "   Energy  Speechiness  Acousticness  Instrumentalness  Valence    Tempo  \\\n",
       "0   0.912       0.0564      0.000025          0.000173    0.720  116.761   \n",
       "1   0.340       0.0339      0.580000          0.003200    0.197   82.433   \n",
       "2   0.402       0.0536      0.288000          0.000000    0.228  143.883   \n",
       "3   0.257       0.0252      0.907000          0.183000    0.169   75.752   \n",
       "4   0.863       0.0338      0.038300          0.031700    0.931  136.302   \n",
       "\n",
       "   Popularity  Danceability  \n",
       "0          74         0.502  \n",
       "1          78         0.338  \n",
       "2          74         0.392  \n",
       "3          77         0.547  \n",
       "4          77         0.723  "
      ]
     },
     "execution_count": 5,
     "metadata": {},
     "output_type": "execute_result"
    }
   ],
   "source": [
    "df = df[['Energy','Speechiness','Acousticness','Instrumentalness','Valence','Tempo','Popularity','Danceability']]\n",
    "df.head(5)"
   ]
  },
  {
   "cell_type": "code",
   "execution_count": 6,
   "id": "72620b77",
   "metadata": {},
   "outputs": [
    {
     "data": {
      "text/html": [
       "<div>\n",
       "<style scoped>\n",
       "    .dataframe tbody tr th:only-of-type {\n",
       "        vertical-align: middle;\n",
       "    }\n",
       "\n",
       "    .dataframe tbody tr th {\n",
       "        vertical-align: top;\n",
       "    }\n",
       "\n",
       "    .dataframe thead th {\n",
       "        text-align: right;\n",
       "    }\n",
       "</style>\n",
       "<table border=\"1\" class=\"dataframe\">\n",
       "  <thead>\n",
       "    <tr style=\"text-align: right;\">\n",
       "      <th></th>\n",
       "      <th>Energy</th>\n",
       "      <th>Speechiness</th>\n",
       "      <th>Acousticness</th>\n",
       "      <th>Instrumentalness</th>\n",
       "      <th>Valence</th>\n",
       "      <th>Tempo</th>\n",
       "      <th>Popularity</th>\n",
       "      <th>Danceability</th>\n",
       "    </tr>\n",
       "  </thead>\n",
       "  <tbody>\n",
       "    <tr>\n",
       "      <th>0</th>\n",
       "      <td>0.912</td>\n",
       "      <td>0.0564</td>\n",
       "      <td>0.000025</td>\n",
       "      <td>0.000173</td>\n",
       "      <td>0.720</td>\n",
       "      <td>116.761</td>\n",
       "      <td>74</td>\n",
       "      <td>0</td>\n",
       "    </tr>\n",
       "    <tr>\n",
       "      <th>1</th>\n",
       "      <td>0.340</td>\n",
       "      <td>0.0339</td>\n",
       "      <td>0.580000</td>\n",
       "      <td>0.003200</td>\n",
       "      <td>0.197</td>\n",
       "      <td>82.433</td>\n",
       "      <td>78</td>\n",
       "      <td>1</td>\n",
       "    </tr>\n",
       "    <tr>\n",
       "      <th>2</th>\n",
       "      <td>0.402</td>\n",
       "      <td>0.0536</td>\n",
       "      <td>0.288000</td>\n",
       "      <td>0.000000</td>\n",
       "      <td>0.228</td>\n",
       "      <td>143.883</td>\n",
       "      <td>74</td>\n",
       "      <td>1</td>\n",
       "    </tr>\n",
       "    <tr>\n",
       "      <th>3</th>\n",
       "      <td>0.257</td>\n",
       "      <td>0.0252</td>\n",
       "      <td>0.907000</td>\n",
       "      <td>0.183000</td>\n",
       "      <td>0.169</td>\n",
       "      <td>75.752</td>\n",
       "      <td>77</td>\n",
       "      <td>0</td>\n",
       "    </tr>\n",
       "    <tr>\n",
       "      <th>4</th>\n",
       "      <td>0.863</td>\n",
       "      <td>0.0338</td>\n",
       "      <td>0.038300</td>\n",
       "      <td>0.031700</td>\n",
       "      <td>0.931</td>\n",
       "      <td>136.302</td>\n",
       "      <td>77</td>\n",
       "      <td>0</td>\n",
       "    </tr>\n",
       "  </tbody>\n",
       "</table>\n",
       "</div>"
      ],
      "text/plain": [
       "   Energy  Speechiness  Acousticness  Instrumentalness  Valence    Tempo  \\\n",
       "0   0.912       0.0564      0.000025          0.000173    0.720  116.761   \n",
       "1   0.340       0.0339      0.580000          0.003200    0.197   82.433   \n",
       "2   0.402       0.0536      0.288000          0.000000    0.228  143.883   \n",
       "3   0.257       0.0252      0.907000          0.183000    0.169   75.752   \n",
       "4   0.863       0.0338      0.038300          0.031700    0.931  136.302   \n",
       "\n",
       "   Popularity  Danceability  \n",
       "0          74             0  \n",
       "1          78             1  \n",
       "2          74             1  \n",
       "3          77             0  \n",
       "4          77             0  "
      ]
     },
     "execution_count": 6,
     "metadata": {},
     "output_type": "execute_result"
    }
   ],
   "source": [
    "df[\"Danceability\"] = np.where(df[\"Danceability\"] <0.5, 1, 0)\n",
    "df.head(5)"
   ]
  },
  {
   "cell_type": "code",
   "execution_count": 7,
   "id": "1f945646",
   "metadata": {},
   "outputs": [],
   "source": [
    "X = df.iloc[:, :-1].values\n",
    "y=df.iloc[:,7].values"
   ]
  },
  {
   "cell_type": "code",
   "execution_count": 8,
   "id": "926ec313",
   "metadata": {},
   "outputs": [
    {
     "data": {
      "text/plain": [
       "array([0, 1, 1, ..., 0, 0, 1])"
      ]
     },
     "execution_count": 8,
     "metadata": {},
     "output_type": "execute_result"
    }
   ],
   "source": [
    "y"
   ]
  },
  {
   "cell_type": "code",
   "execution_count": 9,
   "id": "773bb1e1",
   "metadata": {},
   "outputs": [],
   "source": [
    "scaler = StandardScaler()\n",
    "scaler.fit(X)\n",
    "X = scaler.transform(X)"
   ]
  },
  {
   "cell_type": "markdown",
   "id": "b44667b5",
   "metadata": {},
   "source": [
    "Generating training and testing sets"
   ]
  },
  {
   "cell_type": "code",
   "execution_count": 10,
   "id": "87100a4e",
   "metadata": {},
   "outputs": [],
   "source": [
    "X_train, X_test, y_train, y_test = train_test_split(X, y, test_size=0.20)"
   ]
  },
  {
   "cell_type": "code",
   "execution_count": 11,
   "id": "fbed8c51",
   "metadata": {},
   "outputs": [],
   "source": [
    "X_train = scaler.transform(X_train)\n",
    "X_test = scaler.transform(X_test)"
   ]
  },
  {
   "cell_type": "markdown",
   "id": "f693c694",
   "metadata": {},
   "source": [
    "Using sklearn for k nearest neighbors"
   ]
  },
  {
   "cell_type": "code",
   "execution_count": 12,
   "id": "564e5a68",
   "metadata": {},
   "outputs": [
    {
     "data": {
      "text/plain": [
       "KNeighborsClassifier(n_neighbors=20)"
      ]
     },
     "execution_count": 12,
     "metadata": {},
     "output_type": "execute_result"
    }
   ],
   "source": [
    "classifier = KNeighborsClassifier(n_neighbors=20)\n",
    "classifier.fit(X_train, y_train)"
   ]
  },
  {
   "cell_type": "code",
   "execution_count": 13,
   "id": "14691f88",
   "metadata": {},
   "outputs": [],
   "source": [
    "y_pred = classifier.predict(X_test)"
   ]
  },
  {
   "cell_type": "markdown",
   "id": "9a140456",
   "metadata": {},
   "source": [
    "Confusion matrix"
   ]
  },
  {
   "cell_type": "code",
   "execution_count": 14,
   "id": "a828feb8",
   "metadata": {},
   "outputs": [
    {
     "name": "stdout",
     "output_type": "stream",
     "text": [
      "[[443 152]\n",
      " [190 312]]\n",
      "              precision    recall  f1-score   support\n",
      "\n",
      "           0       0.70      0.74      0.72       595\n",
      "           1       0.67      0.62      0.65       502\n",
      "\n",
      "    accuracy                           0.69      1097\n",
      "   macro avg       0.69      0.68      0.68      1097\n",
      "weighted avg       0.69      0.69      0.69      1097\n",
      "\n"
     ]
    }
   ],
   "source": [
    "print(confusion_matrix(y_test, y_pred))\n",
    "print(classification_report(y_test, y_pred))"
   ]
  },
  {
   "cell_type": "markdown",
   "id": "73a5d5c0",
   "metadata": {},
   "source": [
    "Computing error"
   ]
  },
  {
   "cell_type": "code",
   "execution_count": 15,
   "id": "5699dfed",
   "metadata": {},
   "outputs": [],
   "source": [
    "error = []\n",
    "\n",
    "# Calculating error for K values between 1 and 500\n",
    "for i in range(1, 50):\n",
    "    knn = KNeighborsClassifier(n_neighbors=i)\n",
    "    knn.fit(X_train, y_train)\n",
    "    pred_i = knn.predict(X_test)\n",
    "    error.append(np.mean(pred_i != y_test))"
   ]
  },
  {
   "cell_type": "code",
   "execution_count": 16,
   "id": "06f3c652",
   "metadata": {},
   "outputs": [
    {
     "data": {
      "text/plain": [
       "Text(0, 0.5, 'Mean Error')"
      ]
     },
     "execution_count": 16,
     "metadata": {},
     "output_type": "execute_result"
    },
    {
     "data": {
      "image/png": "[encoded data removed]",
      "text/plain": [
       "<Figure size 864x432 with 1 Axes>"
      ]
     },
     "metadata": {
      "needs_background": "light"
     },
     "output_type": "display_data"
    }
   ],
   "source": [
    "plt.figure(figsize=(12, 6))\n",
    "plt.plot(range(1, 50), error, color='red', linestyle='dashed', marker='o',\n",
    "         markerfacecolor='blue', markersize=10)\n",
    "plt.title('Error Rate K Value')\n",
    "plt.xlabel('K Value')\n",
    "plt.ylabel('Mean Error')"
   ]
  }
 ],
 "metadata": {
  "kernelspec": {
   "display_name": "Python 3",
   "language": "python",
   "name": "python3"
  },
  "language_info": {
   "codemirror_mode": {
    "name": "ipython",
    "version": 3
   },
   "file_extension": ".py",
   "mimetype": "text/x-python",
   "name": "python",
   "nbconvert_exporter": "python",
   "pygments_lexer": "ipython3",
   "version": "3.8.8"
  }
 },
 "nbformat": 4,
 "nbformat_minor": 5
}

{
 "cells": [
  {
   "cell_type": "markdown",
   "id": "383e8265",
   "metadata": {},
   "source": [
    "# Predicting song danceability using Decision Trees classifier"
   ]
  },
  {
   "cell_type": "code",
   "execution_count": 1,
   "id": "b7179640",
   "metadata": {},
   "outputs": [],
   "source": [
    "import numpy as np\n",
    "import matplotlib.pyplot as plt\n",
    "import sklearn\n",
    "import pandas as pd\n",
    "from sklearn.tree import DecisionTreeClassifier, export_graphviz\n",
    "from sklearn.model_selection import train_test_split, LeaveOneOut, cross_val_score, cross_validate\n",
    "from sklearn.preprocessing import OneHotEncoder, LabelEncoder\n",
    "from sklearn.metrics import accuracy_score, precision_score, recall_score,f1_score, plot_roc_curve\n",
    "from sklearn.ensemble import RandomForestClassifier\n",
    "import seaborn as sns\n",
    "%matplotlib inline"
   ]
  },
  {
   "cell_type": "code",
   "execution_count": 2,
   "id": "b9e134c1",
   "metadata": {},
   "outputs": [],
   "source": [
    "df= pd.read_csv('rock-spotify.csv')"
   ]
  },
  {
   "cell_type": "code",
   "execution_count": 3,
   "id": "ee1ddbf0",
   "metadata": {},
   "outputs": [
    {
     "data": {
      "text/plain": [
       "Index(['index', 'name', 'artist', 'release_date', 'length', 'popularity',\n",
       "       'danceability', 'acousticness', 'danceability.1', 'energy',\n",
       "       'instrumentalness', 'key', 'liveness', 'loudness', 'speechiness',\n",
       "       'tempo', 'time_signature', 'valence'],\n",
       "      dtype='object')"
      ]
     },
     "execution_count": 3,
     "metadata": {},
     "output_type": "execute_result"
    }
   ],
   "source": [
    "df.columns"
   ]
  },
  {
   "cell_type": "markdown",
   "id": "b27e0b27",
   "metadata": {},
   "source": [
    "Danceability is measured using a mixture of song features such as beat strength, tempo stability, and overall tempo. The value returned determines the ease with which a person could dance to a song over the course of the whole song.\n",
    "\n",
    "song energy is the sense of forward motion in music, whatever keeps the listener engaged and listening\n",
    "\n",
    "Speechiness detects the presence of spoken words in a track\n",
    "\n",
    "Acousticness describes how acoustic a song is. A score of 1.0 means the song is most likely to be an acoustic one\n",
    "\n",
    "Instrumentalness represents the amount of vocals in the song. The closer it is to 1.0, the more instrumental the song is. \n",
    "\n",
    "Valence: A measure from 0.0 to 1.0 describing the musical positiveness conveyed by a track. Tracks with high valence sound more positive (e.g. happy, cheerful, euphoric), while tracks with low valence sound more negative (e.g. sad, depressed, angry).\n",
    "\n",
    "tempo is how fast or slow a piece of music is performed, while rhythm is the placement of sounds in time, in a regular and repeated pattern. Tempo generally is measured as the number of beats per minute, where the beat is the basic measure of time in music.\n",
    "\n"
   ]
  },
  {
   "cell_type": "code",
   "execution_count": 4,
   "id": "c4513b32",
   "metadata": {},
   "outputs": [
    {
     "data": {
      "text/html": [
       "<div>\n",
       "<style scoped>\n",
       "    .dataframe tbody tr th:only-of-type {\n",
       "        vertical-align: middle;\n",
       "    }\n",
       "\n",
       "    .dataframe tbody tr th {\n",
       "        vertical-align: top;\n",
       "    }\n",
       "\n",
       "    .dataframe thead th {\n",
       "        text-align: right;\n",
       "    }\n",
       "</style>\n",
       "<table border=\"1\" class=\"dataframe\">\n",
       "  <thead>\n",
       "    <tr style=\"text-align: right;\">\n",
       "      <th></th>\n",
       "      <th>name</th>\n",
       "      <th>artist</th>\n",
       "      <th>popularity</th>\n",
       "      <th>danceability</th>\n",
       "      <th>acousticness</th>\n",
       "      <th>energy</th>\n",
       "      <th>instrumentalness</th>\n",
       "      <th>speechiness</th>\n",
       "      <th>tempo</th>\n",
       "      <th>valence</th>\n",
       "    </tr>\n",
       "  </thead>\n",
       "  <tbody>\n",
       "    <tr>\n",
       "      <th>0</th>\n",
       "      <td>Smells Like Teen Spirit</td>\n",
       "      <td>Nirvana</td>\n",
       "      <td>74</td>\n",
       "      <td>0.502</td>\n",
       "      <td>0.000025</td>\n",
       "      <td>0.912</td>\n",
       "      <td>0.000173</td>\n",
       "      <td>0.0564</td>\n",
       "      <td>116.761</td>\n",
       "      <td>0.720</td>\n",
       "    </tr>\n",
       "    <tr>\n",
       "      <th>1</th>\n",
       "      <td>Stairway to Heaven - Remaster</td>\n",
       "      <td>Led Zeppelin</td>\n",
       "      <td>78</td>\n",
       "      <td>0.338</td>\n",
       "      <td>0.580000</td>\n",
       "      <td>0.340</td>\n",
       "      <td>0.003200</td>\n",
       "      <td>0.0339</td>\n",
       "      <td>82.433</td>\n",
       "      <td>0.197</td>\n",
       "    </tr>\n",
       "    <tr>\n",
       "      <th>2</th>\n",
       "      <td>Bohemian Rhapsody - Remastered 2011</td>\n",
       "      <td>Queen</td>\n",
       "      <td>74</td>\n",
       "      <td>0.392</td>\n",
       "      <td>0.288000</td>\n",
       "      <td>0.402</td>\n",
       "      <td>0.000000</td>\n",
       "      <td>0.0536</td>\n",
       "      <td>143.883</td>\n",
       "      <td>0.228</td>\n",
       "    </tr>\n",
       "    <tr>\n",
       "      <th>3</th>\n",
       "      <td>Imagine - Remastered 2010</td>\n",
       "      <td>John Lennon</td>\n",
       "      <td>77</td>\n",
       "      <td>0.547</td>\n",
       "      <td>0.907000</td>\n",
       "      <td>0.257</td>\n",
       "      <td>0.183000</td>\n",
       "      <td>0.0252</td>\n",
       "      <td>75.752</td>\n",
       "      <td>0.169</td>\n",
       "    </tr>\n",
       "    <tr>\n",
       "      <th>4</th>\n",
       "      <td>(I Can't Get No) Satisfaction - Mono Version</td>\n",
       "      <td>The Rolling Stones</td>\n",
       "      <td>77</td>\n",
       "      <td>0.723</td>\n",
       "      <td>0.038300</td>\n",
       "      <td>0.863</td>\n",
       "      <td>0.031700</td>\n",
       "      <td>0.0338</td>\n",
       "      <td>136.302</td>\n",
       "      <td>0.931</td>\n",
       "    </tr>\n",
       "  </tbody>\n",
       "</table>\n",
       "</div>"
      ],
      "text/plain": [
       "                                           name              artist  \\\n",
       "0                       Smells Like Teen Spirit             Nirvana   \n",
       "1                 Stairway to Heaven - Remaster        Led Zeppelin   \n",
       "2           Bohemian Rhapsody - Remastered 2011               Queen   \n",
       "3                     Imagine - Remastered 2010         John Lennon   \n",
       "4  (I Can't Get No) Satisfaction - Mono Version  The Rolling Stones   \n",
       "\n",
       "   popularity  danceability  acousticness  energy  instrumentalness  \\\n",
       "0          74         0.502      0.000025   0.912          0.000173   \n",
       "1          78         0.338      0.580000   0.340          0.003200   \n",
       "2          74         0.392      0.288000   0.402          0.000000   \n",
       "3          77         0.547      0.907000   0.257          0.183000   \n",
       "4          77         0.723      0.038300   0.863          0.031700   \n",
       "\n",
       "   speechiness    tempo  valence  \n",
       "0       0.0564  116.761    0.720  \n",
       "1       0.0339   82.433    0.197  \n",
       "2       0.0536  143.883    0.228  \n",
       "3       0.0252   75.752    0.169  \n",
       "4       0.0338  136.302    0.931  "
      ]
     },
     "execution_count": 4,
     "metadata": {},
     "output_type": "execute_result"
    }
   ],
   "source": [
    "df=df.drop(['index','release_date','length','danceability.1','key','loudness','key','time_signature','liveness'], axis=1)\n",
    "df.head(5)"
   ]
  },
  {
   "cell_type": "markdown",
   "id": "ea612c55",
   "metadata": {},
   "source": [
    "Renaming the columns more appropriately"
   ]
  },
  {
   "cell_type": "code",
   "execution_count": 5,
   "id": "5678feb5",
   "metadata": {},
   "outputs": [],
   "source": [
    "df.rename(columns = {'popularity':'Popularity','artist':'Artist','name':'Title','danceability':'Danceability', 'energy':'Energy','speechiness':'Speechiness', 'acousticness':'Acousticness', 'instrumentalness':'Instrumentalness','valence':'Valence', 'tempo':'Tempo'}, inplace = True)"
   ]
  },
  {
   "cell_type": "markdown",
   "id": "7d873bdf",
   "metadata": {},
   "source": [
    "Droping the columns Artist and Title since they are not relevant in the decision making"
   ]
  },
  {
   "cell_type": "code",
   "execution_count": 6,
   "id": "af5e0bce",
   "metadata": {},
   "outputs": [
    {
     "data": {
      "text/html": [
       "<div>\n",
       "<style scoped>\n",
       "    .dataframe tbody tr th:only-of-type {\n",
       "        vertical-align: middle;\n",
       "    }\n",
       "\n",
       "    .dataframe tbody tr th {\n",
       "        vertical-align: top;\n",
       "    }\n",
       "\n",
       "    .dataframe thead th {\n",
       "        text-align: right;\n",
       "    }\n",
       "</style>\n",
       "<table border=\"1\" class=\"dataframe\">\n",
       "  <thead>\n",
       "    <tr style=\"text-align: right;\">\n",
       "      <th></th>\n",
       "      <th>Popularity</th>\n",
       "      <th>Danceability</th>\n",
       "      <th>Acousticness</th>\n",
       "      <th>Energy</th>\n",
       "      <th>Instrumentalness</th>\n",
       "      <th>Speechiness</th>\n",
       "      <th>Tempo</th>\n",
       "      <th>Valence</th>\n",
       "    </tr>\n",
       "  </thead>\n",
       "  <tbody>\n",
       "    <tr>\n",
       "      <th>0</th>\n",
       "      <td>74</td>\n",
       "      <td>0.502</td>\n",
       "      <td>0.000025</td>\n",
       "      <td>0.912</td>\n",
       "      <td>0.000173</td>\n",
       "      <td>0.0564</td>\n",
       "      <td>116.761</td>\n",
       "      <td>0.720</td>\n",
       "    </tr>\n",
       "    <tr>\n",
       "      <th>1</th>\n",
       "      <td>78</td>\n",
       "      <td>0.338</td>\n",
       "      <td>0.580000</td>\n",
       "      <td>0.340</td>\n",
       "      <td>0.003200</td>\n",
       "      <td>0.0339</td>\n",
       "      <td>82.433</td>\n",
       "      <td>0.197</td>\n",
       "    </tr>\n",
       "    <tr>\n",
       "      <th>2</th>\n",
       "      <td>74</td>\n",
       "      <td>0.392</td>\n",
       "      <td>0.288000</td>\n",
       "      <td>0.402</td>\n",
       "      <td>0.000000</td>\n",
       "      <td>0.0536</td>\n",
       "      <td>143.883</td>\n",
       "      <td>0.228</td>\n",
       "    </tr>\n",
       "    <tr>\n",
       "      <th>3</th>\n",
       "      <td>77</td>\n",
       "      <td>0.547</td>\n",
       "      <td>0.907000</td>\n",
       "      <td>0.257</td>\n",
       "      <td>0.183000</td>\n",
       "      <td>0.0252</td>\n",
       "      <td>75.752</td>\n",
       "      <td>0.169</td>\n",
       "    </tr>\n",
       "    <tr>\n",
       "      <th>4</th>\n",
       "      <td>77</td>\n",
       "      <td>0.723</td>\n",
       "      <td>0.038300</td>\n",
       "      <td>0.863</td>\n",
       "      <td>0.031700</td>\n",
       "      <td>0.0338</td>\n",
       "      <td>136.302</td>\n",
       "      <td>0.931</td>\n",
       "    </tr>\n",
       "  </tbody>\n",
       "</table>\n",
       "</div>"
      ],
      "text/plain": [
       "   Popularity  Danceability  Acousticness  Energy  Instrumentalness  \\\n",
       "0          74         0.502      0.000025   0.912          0.000173   \n",
       "1          78         0.338      0.580000   0.340          0.003200   \n",
       "2          74         0.392      0.288000   0.402          0.000000   \n",
       "3          77         0.547      0.907000   0.257          0.183000   \n",
       "4          77         0.723      0.038300   0.863          0.031700   \n",
       "\n",
       "   Speechiness    Tempo  Valence  \n",
       "0       0.0564  116.761    0.720  \n",
       "1       0.0339   82.433    0.197  \n",
       "2       0.0536  143.883    0.228  \n",
       "3       0.0252   75.752    0.169  \n",
       "4       0.0338  136.302    0.931  "
      ]
     },
     "execution_count": 6,
     "metadata": {},
     "output_type": "execute_result"
    }
   ],
   "source": [
    "df=df.drop(['Artist','Title'],axis=1)\n",
    "df.head(5)"
   ]
  },
  {
   "cell_type": "markdown",
   "id": "deb0ffc5",
   "metadata": {},
   "source": [
    "Placing the Danceability column at the end for better visualization"
   ]
  },
  {
   "cell_type": "code",
   "execution_count": 7,
   "id": "89406a2d",
   "metadata": {},
   "outputs": [],
   "source": [
    "df = df[['Energy','Speechiness','Acousticness','Instrumentalness','Valence','Tempo','Popularity','Danceability']]"
   ]
  },
  {
   "cell_type": "markdown",
   "id": "5478cb0d",
   "metadata": {},
   "source": [
    "Creating two classes of danceability, Class 1 if the danceability value is higher than 0.5 and Class 0 if the values is less than 0.5"
   ]
  },
  {
   "cell_type": "code",
   "execution_count": 10,
   "id": "4ff25ed9",
   "metadata": {},
   "outputs": [
    {
     "data": {
      "text/html": [
       "<div>\n",
       "<style scoped>\n",
       "    .dataframe tbody tr th:only-of-type {\n",
       "        vertical-align: middle;\n",
       "    }\n",
       "\n",
       "    .dataframe tbody tr th {\n",
       "        vertical-align: top;\n",
       "    }\n",
       "\n",
       "    .dataframe thead th {\n",
       "        text-align: right;\n",
       "    }\n",
       "</style>\n",
       "<table border=\"1\" class=\"dataframe\">\n",
       "  <thead>\n",
       "    <tr style=\"text-align: right;\">\n",
       "      <th></th>\n",
       "      <th>Energy</th>\n",
       "      <th>Speechiness</th>\n",
       "      <th>Acousticness</th>\n",
       "      <th>Instrumentalness</th>\n",
       "      <th>Valence</th>\n",
       "      <th>Tempo</th>\n",
       "      <th>Popularity</th>\n",
       "      <th>Danceability</th>\n",
       "    </tr>\n",
       "  </thead>\n",
       "  <tbody>\n",
       "    <tr>\n",
       "      <th>0</th>\n",
       "      <td>0.912</td>\n",
       "      <td>0.0564</td>\n",
       "      <td>0.000025</td>\n",
       "      <td>0.000173</td>\n",
       "      <td>0.720</td>\n",
       "      <td>116.761</td>\n",
       "      <td>74</td>\n",
       "      <td>1</td>\n",
       "    </tr>\n",
       "    <tr>\n",
       "      <th>1</th>\n",
       "      <td>0.340</td>\n",
       "      <td>0.0339</td>\n",
       "      <td>0.580000</td>\n",
       "      <td>0.003200</td>\n",
       "      <td>0.197</td>\n",
       "      <td>82.433</td>\n",
       "      <td>78</td>\n",
       "      <td>0</td>\n",
       "    </tr>\n",
       "    <tr>\n",
       "      <th>2</th>\n",
       "      <td>0.402</td>\n",
       "      <td>0.0536</td>\n",
       "      <td>0.288000</td>\n",
       "      <td>0.000000</td>\n",
       "      <td>0.228</td>\n",
       "      <td>143.883</td>\n",
       "      <td>74</td>\n",
       "      <td>0</td>\n",
       "    </tr>\n",
       "    <tr>\n",
       "      <th>3</th>\n",
       "      <td>0.257</td>\n",
       "      <td>0.0252</td>\n",
       "      <td>0.907000</td>\n",
       "      <td>0.183000</td>\n",
       "      <td>0.169</td>\n",
       "      <td>75.752</td>\n",
       "      <td>77</td>\n",
       "      <td>1</td>\n",
       "    </tr>\n",
       "    <tr>\n",
       "      <th>4</th>\n",
       "      <td>0.863</td>\n",
       "      <td>0.0338</td>\n",
       "      <td>0.038300</td>\n",
       "      <td>0.031700</td>\n",
       "      <td>0.931</td>\n",
       "      <td>136.302</td>\n",
       "      <td>77</td>\n",
       "      <td>1</td>\n",
       "    </tr>\n",
       "    <tr>\n",
       "      <th>...</th>\n",
       "      <td>...</td>\n",
       "      <td>...</td>\n",
       "      <td>...</td>\n",
       "      <td>...</td>\n",
       "      <td>...</td>\n",
       "      <td>...</td>\n",
       "      <td>...</td>\n",
       "      <td>...</td>\n",
       "    </tr>\n",
       "    <tr>\n",
       "      <th>5479</th>\n",
       "      <td>0.776</td>\n",
       "      <td>0.0597</td>\n",
       "      <td>0.005910</td>\n",
       "      <td>0.801000</td>\n",
       "      <td>0.406</td>\n",
       "      <td>93.481</td>\n",
       "      <td>47</td>\n",
       "      <td>0</td>\n",
       "    </tr>\n",
       "    <tr>\n",
       "      <th>5480</th>\n",
       "      <td>0.887</td>\n",
       "      <td>0.1230</td>\n",
       "      <td>0.002130</td>\n",
       "      <td>0.916000</td>\n",
       "      <td>0.357</td>\n",
       "      <td>92.965</td>\n",
       "      <td>44</td>\n",
       "      <td>0</td>\n",
       "    </tr>\n",
       "    <tr>\n",
       "      <th>5481</th>\n",
       "      <td>0.609</td>\n",
       "      <td>0.0332</td>\n",
       "      <td>0.860000</td>\n",
       "      <td>0.890000</td>\n",
       "      <td>0.734</td>\n",
       "      <td>86.861</td>\n",
       "      <td>40</td>\n",
       "      <td>1</td>\n",
       "    </tr>\n",
       "    <tr>\n",
       "      <th>5482</th>\n",
       "      <td>0.644</td>\n",
       "      <td>0.0462</td>\n",
       "      <td>0.006690</td>\n",
       "      <td>0.673000</td>\n",
       "      <td>0.853</td>\n",
       "      <td>117.225</td>\n",
       "      <td>52</td>\n",
       "      <td>1</td>\n",
       "    </tr>\n",
       "    <tr>\n",
       "      <th>5483</th>\n",
       "      <td>0.959</td>\n",
       "      <td>0.2080</td>\n",
       "      <td>0.000258</td>\n",
       "      <td>0.000275</td>\n",
       "      <td>0.128</td>\n",
       "      <td>161.693</td>\n",
       "      <td>0</td>\n",
       "      <td>0</td>\n",
       "    </tr>\n",
       "  </tbody>\n",
       "</table>\n",
       "<p>5484 rows × 8 columns</p>\n",
       "</div>"
      ],
      "text/plain": [
       "      Energy  Speechiness  Acousticness  Instrumentalness  Valence    Tempo  \\\n",
       "0      0.912       0.0564      0.000025          0.000173    0.720  116.761   \n",
       "1      0.340       0.0339      0.580000          0.003200    0.197   82.433   \n",
       "2      0.402       0.0536      0.288000          0.000000    0.228  143.883   \n",
       "3      0.257       0.0252      0.907000          0.183000    0.169   75.752   \n",
       "4      0.863       0.0338      0.038300          0.031700    0.931  136.302   \n",
       "...      ...          ...           ...               ...      ...      ...   \n",
       "5479   0.776       0.0597      0.005910          0.801000    0.406   93.481   \n",
       "5480   0.887       0.1230      0.002130          0.916000    0.357   92.965   \n",
       "5481   0.609       0.0332      0.860000          0.890000    0.734   86.861   \n",
       "5482   0.644       0.0462      0.006690          0.673000    0.853  117.225   \n",
       "5483   0.959       0.2080      0.000258          0.000275    0.128  161.693   \n",
       "\n",
       "      Popularity  Danceability  \n",
       "0             74             1  \n",
       "1             78             0  \n",
       "2             74             0  \n",
       "3             77             1  \n",
       "4             77             1  \n",
       "...          ...           ...  \n",
       "5479          47             0  \n",
       "5480          44             0  \n",
       "5481          40             1  \n",
       "5482          52             1  \n",
       "5483           0             0  \n",
       "\n",
       "[5484 rows x 8 columns]"
      ]
     },
     "execution_count": 10,
     "metadata": {},
     "output_type": "execute_result"
    }
   ],
   "source": [
    "df[\"Danceability\"] = np.where(df[\"Danceability\"] <0.5, 0, 1)\n",
    "df"
   ]
  },
  {
   "cell_type": "markdown",
   "id": "bf110f24",
   "metadata": {},
   "source": [
    "Checking for duplicate rows"
   ]
  },
  {
   "cell_type": "code",
   "execution_count": 13,
   "id": "fe8afd68",
   "metadata": {},
   "outputs": [
    {
     "name": "stdout",
     "output_type": "stream",
     "text": [
      "Number of duplicated rows:  (10, 8)\n"
     ]
    }
   ],
   "source": [
    "duplicate_rows=df[df.duplicated()]\n",
    "print('Number of duplicated rows: ', duplicate_rows.shape)"
   ]
  },
  {
   "cell_type": "code",
   "execution_count": 14,
   "id": "159a911a",
   "metadata": {},
   "outputs": [
    {
     "name": "stdout",
     "output_type": "stream",
     "text": [
      "Energy              0\n",
      "Speechiness         0\n",
      "Acousticness        0\n",
      "Instrumentalness    0\n",
      "Valence             0\n",
      "Tempo               0\n",
      "Popularity          0\n",
      "Danceability        0\n",
      "dtype: int64\n"
     ]
    }
   ],
   "source": [
    "print(df.isnull().sum())"
   ]
  },
  {
   "cell_type": "markdown",
   "id": "95d8f970",
   "metadata": {},
   "source": [
    "Creating a deccision tree"
   ]
  },
  {
   "cell_type": "code",
   "execution_count": 15,
   "id": "9ef1d79a",
   "metadata": {},
   "outputs": [],
   "source": [
    "dt=DecisionTreeClassifier(criterion='entropy')"
   ]
  },
  {
   "cell_type": "markdown",
   "id": "8abad13a",
   "metadata": {},
   "source": [
    "Spliting the data into train and test datasets"
   ]
  },
  {
   "cell_type": "code",
   "execution_count": 16,
   "id": "a2fd4628",
   "metadata": {},
   "outputs": [],
   "source": [
    "trainX,testX,trainY,testY = train_test_split(df[['Popularity','Energy','Speechiness','Acousticness','Instrumentalness','Valence','Tempo']], df[[\"Danceability\"]])"
   ]
  },
  {
   "cell_type": "code",
   "execution_count": 17,
   "id": "332545e1",
   "metadata": {},
   "outputs": [
    {
     "data": {
      "text/plain": [
       "DecisionTreeClassifier(criterion='entropy')"
      ]
     },
     "execution_count": 17,
     "metadata": {},
     "output_type": "execute_result"
    }
   ],
   "source": [
    "dt.fit(trainX,trainY)"
   ]
  },
  {
   "cell_type": "code",
   "execution_count": 18,
   "id": "4f4c8237",
   "metadata": {},
   "outputs": [],
   "source": [
    "predicted = dt.predict(testX)"
   ]
  },
  {
   "cell_type": "code",
   "execution_count": 19,
   "id": "97a9045c",
   "metadata": {},
   "outputs": [
    {
     "data": {
      "text/plain": [
       "array([1, 1, 0, ..., 1, 0, 0])"
      ]
     },
     "execution_count": 19,
     "metadata": {},
     "output_type": "execute_result"
    }
   ],
   "source": [
    "predicted"
   ]
  },
  {
   "cell_type": "markdown",
   "id": "17c1646f",
   "metadata": {},
   "source": [
    "Feature importance lets us know how much each of the attributes is important during the decision making"
   ]
  },
  {
   "cell_type": "code",
   "execution_count": 20,
   "id": "cb4c9344",
   "metadata": {},
   "outputs": [
    {
     "data": {
      "text/plain": [
       "array([0.10511889, 0.10070072, 0.12311498, 0.12037141, 0.0796376 ,\n",
       "       0.26006652, 0.21098988])"
      ]
     },
     "execution_count": 20,
     "metadata": {},
     "output_type": "execute_result"
    }
   ],
   "source": [
    "dt.feature_importances_"
   ]
  },
  {
   "cell_type": "code",
   "execution_count": 21,
   "id": "6d220d9a",
   "metadata": {},
   "outputs": [
    {
     "data": {
      "text/plain": [
       "315     0\n",
       "5215    1\n",
       "235     1\n",
       "1766    0\n",
       "4461    0\n",
       "       ..\n",
       "4367    0\n",
       "918     0\n",
       "3490    1\n",
       "1789    1\n",
       "3548    1\n",
       "Name: Danceability, Length: 1371, dtype: int32"
      ]
     },
     "execution_count": 21,
     "metadata": {},
     "output_type": "execute_result"
    }
   ],
   "source": [
    "testY.Danceability"
   ]
  },
  {
   "cell_type": "code",
   "execution_count": 22,
   "id": "70776742",
   "metadata": {},
   "outputs": [
    {
     "data": {
      "text/html": [
       "<div>\n",
       "<style scoped>\n",
       "    .dataframe tbody tr th:only-of-type {\n",
       "        vertical-align: middle;\n",
       "    }\n",
       "\n",
       "    .dataframe tbody tr th {\n",
       "        vertical-align: top;\n",
       "    }\n",
       "\n",
       "    .dataframe thead th {\n",
       "        text-align: right;\n",
       "    }\n",
       "</style>\n",
       "<table border=\"1\" class=\"dataframe\">\n",
       "  <thead>\n",
       "    <tr style=\"text-align: right;\">\n",
       "      <th></th>\n",
       "      <th>actual</th>\n",
       "      <th>predicted</th>\n",
       "    </tr>\n",
       "  </thead>\n",
       "  <tbody>\n",
       "    <tr>\n",
       "      <th>315</th>\n",
       "      <td>0</td>\n",
       "      <td>1</td>\n",
       "    </tr>\n",
       "    <tr>\n",
       "      <th>5215</th>\n",
       "      <td>1</td>\n",
       "      <td>1</td>\n",
       "    </tr>\n",
       "    <tr>\n",
       "      <th>235</th>\n",
       "      <td>1</td>\n",
       "      <td>0</td>\n",
       "    </tr>\n",
       "    <tr>\n",
       "      <th>1766</th>\n",
       "      <td>0</td>\n",
       "      <td>1</td>\n",
       "    </tr>\n",
       "    <tr>\n",
       "      <th>4461</th>\n",
       "      <td>0</td>\n",
       "      <td>1</td>\n",
       "    </tr>\n",
       "    <tr>\n",
       "      <th>...</th>\n",
       "      <td>...</td>\n",
       "      <td>...</td>\n",
       "    </tr>\n",
       "    <tr>\n",
       "      <th>4367</th>\n",
       "      <td>0</td>\n",
       "      <td>1</td>\n",
       "    </tr>\n",
       "    <tr>\n",
       "      <th>918</th>\n",
       "      <td>0</td>\n",
       "      <td>0</td>\n",
       "    </tr>\n",
       "    <tr>\n",
       "      <th>3490</th>\n",
       "      <td>1</td>\n",
       "      <td>1</td>\n",
       "    </tr>\n",
       "    <tr>\n",
       "      <th>1789</th>\n",
       "      <td>1</td>\n",
       "      <td>0</td>\n",
       "    </tr>\n",
       "    <tr>\n",
       "      <th>3548</th>\n",
       "      <td>1</td>\n",
       "      <td>0</td>\n",
       "    </tr>\n",
       "  </tbody>\n",
       "</table>\n",
       "<p>1371 rows × 2 columns</p>\n",
       "</div>"
      ],
      "text/plain": [
       "      actual  predicted\n",
       "315        0          1\n",
       "5215       1          1\n",
       "235        1          0\n",
       "1766       0          1\n",
       "4461       0          1\n",
       "...      ...        ...\n",
       "4367       0          1\n",
       "918        0          0\n",
       "3490       1          1\n",
       "1789       1          0\n",
       "3548       1          0\n",
       "\n",
       "[1371 rows x 2 columns]"
      ]
     },
     "execution_count": 22,
     "metadata": {},
     "output_type": "execute_result"
    }
   ],
   "source": [
    "result_df = pd.DataFrame({\"actual\":testY.Danceability,\"predicted\":predicted})\n",
    "result_df"
   ]
  },
  {
   "cell_type": "markdown",
   "id": "a887cc0a",
   "metadata": {},
   "source": [
    "The confusion matrix shows how many times are the real clases 0 and 1 properly predicted"
   ]
  },
  {
   "cell_type": "code",
   "execution_count": 23,
   "id": "878bcfba",
   "metadata": {},
   "outputs": [
    {
     "name": "stdout",
     "output_type": "stream",
     "text": [
      "Predicted    0    1\n",
      "Actual             \n",
      "0          422  210\n",
      "1          232  507\n"
     ]
    }
   ],
   "source": [
    "confusion_matrix = pd.crosstab(result_df['actual'], result_df['predicted'], rownames=['Actual'], colnames=['Predicted'])\n",
    "print (confusion_matrix)"
   ]
  },
  {
   "cell_type": "code",
   "execution_count": 24,
   "id": "d7eb829c",
   "metadata": {},
   "outputs": [
    {
     "data": {
      "image/png": "[encoded data removed]",
      "text/plain": [
       "<Figure size 432x288 with 2 Axes>"
      ]
     },
     "metadata": {
      "needs_background": "light"
     },
     "output_type": "display_data"
    }
   ],
   "source": [
    "sns.heatmap(confusion_matrix, annot=True)\n",
    "plt.show()"
   ]
  },
  {
   "cell_type": "markdown",
   "id": "2bb9cb65",
   "metadata": {},
   "source": [
    "The accuracy score for this model is 67.8%"
   ]
  },
  {
   "cell_type": "code",
   "execution_count": 25,
   "id": "555ee81e",
   "metadata": {},
   "outputs": [
    {
     "data": {
      "text/plain": [
       "0.6776075857038658"
      ]
     },
     "execution_count": 25,
     "metadata": {},
     "output_type": "execute_result"
    }
   ],
   "source": [
    "accuracy_score(result_df['actual'], result_df['predicted'])"
   ]
  },
  {
   "cell_type": "code",
   "execution_count": null,
   "id": "a7fa8db3",
   "metadata": {},
   "outputs": [],
   "source": []
  }
 ],
 "metadata": {
  "kernelspec": {
   "display_name": "Python 3",
   "language": "python",
   "name": "python3"
  },
  "language_info": {
   "codemirror_mode": {
    "name": "ipython",
    "version": 3
   },
   "file_extension": ".py",
   "mimetype": "text/x-python",
   "name": "python",
   "nbconvert_exporter": "python",
   "pygments_lexer": "ipython3",
   "version": "3.8.8"
  }
 },
 "nbformat": 4,
 "nbformat_minor": 5
}
